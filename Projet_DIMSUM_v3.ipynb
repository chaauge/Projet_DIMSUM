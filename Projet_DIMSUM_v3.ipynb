{
 "cells": [
  {
   "cell_type": "markdown",
   "metadata": {},
   "source": [
    "# Titre du notebook"
   ]
  },
  {
   "cell_type": "markdown",
   "metadata": {},
   "source": [
    "Intro ?"
   ]
  },
  {
   "cell_type": "code",
   "execution_count": 1,
   "metadata": {
    "collapsed": true
   },
   "outputs": [],
   "source": [
    "# Importation des packages\n",
    "import numpy as np\n",
    "import pandas\n",
    "import pyspark\n",
    "import math\n",
    "import time\n",
    "\n",
    "from operator import add"
   ]
  },
  {
   "cell_type": "code",
   "execution_count": 21,
   "metadata": {
    "collapsed": false
   },
   "outputs": [],
   "source": [
    "# Création de la matrice n lignes et p colonnes\n",
    "mat= np.random.uniform(-1,1,size=(1000,100))\n",
    "n=mat.shape[0]\n",
    "p=mat.shape[1]\n",
    "nb=range(n)\n",
    "mat=np.insert(mat, 0, range(n), axis = 1)"
   ]
  },
  {
   "cell_type": "code",
   "execution_count": 22,
   "metadata": {
    "collapsed": false,
    "scrolled": true
   },
   "outputs": [
    {
     "data": {
      "text/plain": [
       "array([[  0.00000000e+00,  -7.65866808e-01,  -4.62671948e-01, ...,\n",
       "         -3.47017100e-01,  -9.70742131e-01,   6.74716253e-01],\n",
       "       [  1.00000000e+00,   4.81021624e-01,   7.38420888e-01, ...,\n",
       "         -8.29526571e-01,  -1.72656581e-02,  -2.08563790e-01],\n",
       "       [  2.00000000e+00,   5.30781146e-01,   4.30832564e-01, ...,\n",
       "         -6.90015690e-01,  -5.32962990e-01,   9.10122190e-01],\n",
       "       ..., \n",
       "       [  9.97000000e+02,   7.23705454e-01,   5.30645372e-01, ...,\n",
       "         -6.41936621e-01,   8.59583362e-01,   5.91507491e-01],\n",
       "       [  9.98000000e+02,  -4.46442610e-02,   1.23124409e-01, ...,\n",
       "         -7.21262214e-01,  -5.42325811e-01,  -9.81334755e-01],\n",
       "       [  9.99000000e+02,   6.90807523e-01,  -2.94574495e-01, ...,\n",
       "         -5.11487969e-01,  -1.23024244e-01,   7.70728928e-01]])"
      ]
     },
     "execution_count": 22,
     "metadata": {},
     "output_type": "execute_result"
    }
   ],
   "source": [
    "mat"
   ]
  },
  {
   "cell_type": "code",
   "execution_count": 23,
   "metadata": {
    "collapsed": false
   },
   "outputs": [],
   "source": [
    "np.savetxt(\"A.csv\",mat,fmt='%1.3f',delimiter=',')\n",
    "A=sc.textFile(\"A.csv\").map(lambda line: line.split(\",\")).map(lambda line: [float(i) for i in line])"
   ]
  },
  {
   "cell_type": "code",
   "execution_count": 24,
   "metadata": {
    "collapsed": false
   },
   "outputs": [],
   "source": [
    "# Je l'ai mis en commentaire car doit-on paralléliser ?\n",
    "#rdd=sc.parallelize(A,5) \n",
    "#rdd.take(5)\n",
    "#new_rdd = rdd.flatMap(process_mat_row)\n",
    "#new_rdd.take(12)"
   ]
  },
  {
   "cell_type": "markdown",
   "metadata": {},
   "source": [
    "On modifie la matrice en un tableau de trois colonnes (index ligne, index colonne, valeur)."
   ]
  },
  {
   "cell_type": "code",
   "execution_count": 25,
   "metadata": {
    "collapsed": true
   },
   "outputs": [],
   "source": [
    "def process_mat_row(row):\n",
    "    index = int(row[0])\n",
    "    row = row[1:]\n",
    "    return [[index, j, v] for j, v in enumerate(row)]"
   ]
  },
  {
   "cell_type": "code",
   "execution_count": 26,
   "metadata": {
    "collapsed": false
   },
   "outputs": [
    {
     "data": {
      "text/plain": [
       "[[0, 0, -0.766],\n",
       " [0, 1, -0.463],\n",
       " [0, 2, 0.481],\n",
       " [0, 3, -0.372],\n",
       " [0, 4, -0.464],\n",
       " [0, 5, -0.341],\n",
       " [0, 6, -0.42],\n",
       " [0, 7, -0.012],\n",
       " [0, 8, -0.554],\n",
       " [0, 9, 0.233],\n",
       " [0, 10, -0.543],\n",
       " [0, 11, -0.657]]"
      ]
     },
     "execution_count": 26,
     "metadata": {},
     "output_type": "execute_result"
    }
   ],
   "source": [
    "new_A = A.flatMap(process_mat_row)\n",
    "new_A.take(12)"
   ]
  },
  {
   "cell_type": "markdown",
   "metadata": {},
   "source": [
    "## Algorithme 1"
   ]
  },
  {
   "cell_type": "code",
   "execution_count": 9,
   "metadata": {
    "collapsed": true
   },
   "outputs": [],
   "source": [
    "# On récupère tout d'abord les a_ij: on a ligne, (colonne,valeur): la clé est sur la ligne\n",
    "def a_ij(row):\n",
    "    return row[0], (row[1], row[2])"
   ]
  },
  {
   "cell_type": "code",
   "execution_count": 8,
   "metadata": {
    "collapsed": false
   },
   "outputs": [
    {
     "data": {
      "text/plain": [
       "[(0, ((0, 0.127), (0, 0.127))),\n",
       " (0, ((0, 0.127), (1, -0.349))),\n",
       " (0, ((0, 0.127), (2, -0.481))),\n",
       " (0, ((0, 0.127), (3, -0.828))),\n",
       " (0, ((0, 0.127), (4, 0.592))),\n",
       " (0, ((0, 0.127), (5, 0.85))),\n",
       " (0, ((0, 0.127), (6, 0.68))),\n",
       " (0, ((0, 0.127), (7, 0.038))),\n",
       " (0, ((0, 0.127), (8, -0.424))),\n",
       " (0, ((0, 0.127), (9, 0.763))),\n",
       " (0, ((1, -0.349), (0, 0.127))),\n",
       " (0, ((1, -0.349), (1, -0.349))),\n",
       " (0, ((1, -0.349), (2, -0.481))),\n",
       " (0, ((1, -0.349), (3, -0.828))),\n",
       " (0, ((1, -0.349), (4, 0.592)))]"
      ]
     },
     "execution_count": 8,
     "metadata": {},
     "output_type": "execute_result"
    }
   ],
   "source": [
    "# On récupère ensuite les deux valeurs a_ij et a_ik associé au même i(clé) pour tous les j et k\n",
    "mat_join_naive = new_A.map(a_ij).join(new_A.map(a_ij))\n",
    "mat_join_naive.take(15)"
   ]
  },
  {
   "cell_type": "code",
   "execution_count": 10,
   "metadata": {
    "collapsed": true
   },
   "outputs": [],
   "source": [
    "# On fait la multiplication a_ij*a_ik, on garde les j et k en clé\n",
    "def produit_matrice(row):\n",
    "    index, ((j, vij), (k, vik)) = row\n",
    "    return j, k, vij*vik"
   ]
  },
  {
   "cell_type": "code",
   "execution_count": 9,
   "metadata": {
    "collapsed": false
   },
   "outputs": [
    {
     "data": {
      "text/plain": [
       "[(0, 0, 0.016129),\n",
       " (0, 1, -0.044322999999999994),\n",
       " (0, 2, -0.061086999999999995),\n",
       " (0, 3, -0.105156),\n",
       " (0, 4, 0.075184),\n",
       " (0, 5, 0.10795),\n",
       " (0, 6, 0.08636),\n",
       " (0, 7, 0.0048259999999999996),\n",
       " (0, 8, -0.053848),\n",
       " (0, 9, 0.096901),\n",
       " (1, 0, -0.044322999999999994),\n",
       " (1, 1, 0.12180099999999998)]"
      ]
     },
     "execution_count": 9,
     "metadata": {},
     "output_type": "execute_result"
    }
   ],
   "source": [
    "mat_produit_naive = mat_join_naive.map(produit_matrice)\n",
    "mat_produit_naive.take(12)"
   ]
  },
  {
   "cell_type": "markdown",
   "metadata": {},
   "source": [
    "## Algorithme 2"
   ]
  },
  {
   "cell_type": "code",
   "execution_count": 10,
   "metadata": {
    "collapsed": false
   },
   "outputs": [],
   "source": [
    "# On crée une nouvelle clé\n",
    "mat_produit_key_naive = mat_produit_naive.map(lambda row: ((row[0], row[1]), row[2]))"
   ]
  },
  {
   "cell_type": "code",
   "execution_count": 11,
   "metadata": {
    "collapsed": true
   },
   "outputs": [],
   "source": [
    "# On additionne par clé\n",
    "mat_finale_naive = mat_produit_key_naive.reduceByKey(add)"
   ]
  },
  {
   "cell_type": "code",
   "execution_count": 12,
   "metadata": {
    "collapsed": true
   },
   "outputs": [],
   "source": [
    "# Matrice finale \n",
    "AT_A_naive = mat_finale_naive.collect()"
   ]
  },
  {
   "cell_type": "code",
   "execution_count": 13,
   "metadata": {
    "collapsed": false
   },
   "outputs": [],
   "source": [
    "AT_A_naive.sort()\n",
    "#AT_A #On obtient bien une matrice 10*10"
   ]
  },
  {
   "cell_type": "code",
   "execution_count": 14,
   "metadata": {
    "collapsed": false
   },
   "outputs": [],
   "source": [
    "liste_naive=[]\n",
    "for k in range(p):\n",
    "    liste_naive.append([AT_A_naive[k*p + i][1] for i in range(p)])"
   ]
  },
  {
   "cell_type": "code",
   "execution_count": 15,
   "metadata": {
    "collapsed": false
   },
   "outputs": [
    {
     "data": {
      "text/plain": [
       "array([[ 34.882255,   4.325688,   5.25007 ,   3.241141,   4.120881,\n",
       "         -0.939737,  -4.315984,   1.56156 ,   3.370467,  -1.671469],\n",
       "       [  4.325688,  34.438771,   1.244347,  -1.394023,   0.868624,\n",
       "         -3.061998,  -3.296918,  -1.016092,   0.144422,   1.626774],\n",
       "       [  5.25007 ,   1.244347,  26.5547  ,   0.626877,   3.967043,\n",
       "          6.118294,  -3.997058,  -1.26915 ,   2.181615,  -3.056188],\n",
       "       [  3.241141,  -1.394023,   0.626877,  30.517552,   2.403329,\n",
       "         -1.173572,   1.473162,   1.435021,   1.680121,  -8.762421],\n",
       "       [  4.120881,   0.868624,   3.967043,   2.403329,  37.231294,\n",
       "         -4.50548 ,  -2.558421,   4.25732 ,   1.327155,  -7.698799],\n",
       "       [ -0.939737,  -3.061998,   6.118294,  -1.173572,  -4.50548 ,\n",
       "         27.299931,   3.633682,  -5.091089,  -2.99085 ,   2.547756],\n",
       "       [ -4.315984,  -3.296918,  -3.997058,   1.473162,  -2.558421,\n",
       "          3.633682,  36.772368,   1.191619,   2.914768,  -0.544911],\n",
       "       [  1.56156 ,  -1.016092,  -1.26915 ,   1.435021,   4.25732 ,\n",
       "         -5.091089,   1.191619,  29.90338 ,   2.036506,   1.706615],\n",
       "       [  3.370467,   0.144422,   2.181615,   1.680121,   1.327155,\n",
       "         -2.99085 ,   2.914768,   2.036506,  34.255739,  -5.854336],\n",
       "       [ -1.671469,   1.626774,  -3.056188,  -8.762421,  -7.698799,\n",
       "          2.547756,  -0.544911,   1.706615,  -5.854336,  33.447323]])"
      ]
     },
     "execution_count": 15,
     "metadata": {},
     "output_type": "execute_result"
    }
   ],
   "source": [
    "AT_A_finale_naive = np.array(liste_naive)\n",
    "AT_A_finale_naive"
   ]
  },
  {
   "cell_type": "code",
   "execution_count": 27,
   "metadata": {
    "collapsed": false
   },
   "outputs": [
    {
     "name": "stdout",
     "output_type": "stream",
     "text": [
      "0.10372299999999957\n"
     ]
    }
   ],
   "source": [
    "time1=time.clock()\n",
    "\n",
    "mat_finale_naive = new_A.map(a_ij).join(new_A.map(a_ij)).map(produit_matrice).map(lambda row: ((row[0], row[1]), row[2])).reduceByKey(add)\n",
    "AT_A_naive = mat_finale_naive.collect()\n",
    "AT_A_naive.sort()\n",
    "\n",
    "liste_naive=[]\n",
    "for k in range(p):\n",
    "    liste_naive.append([AT_A_naive[k*p + i][1] for i in range(p)])\n",
    "AT_A_finale_naive = np.array(liste_naive)\n",
    "    \n",
    "time2=time.clock()\n",
    "print(time2-time1)\n"
   ]
  },
  {
   "cell_type": "markdown",
   "metadata": {},
   "source": [
    "## Algorithme 3"
   ]
  },
  {
   "cell_type": "code",
   "execution_count": 16,
   "metadata": {
    "collapsed": false
   },
   "outputs": [
    {
     "data": {
      "text/plain": [
       "[[0, 0, 0.127],\n",
       " [0, 1, -0.349],\n",
       " [0, 2, -0.481],\n",
       " [0, 3, -0.828],\n",
       " [0, 4, 0.592],\n",
       " [0, 5, 0.85],\n",
       " [0, 6, 0.68],\n",
       " [0, 7, 0.038],\n",
       " [0, 8, -0.424],\n",
       " [0, 9, 0.763],\n",
       " [1, 0, 0.411],\n",
       " [1, 1, -0.418]]"
      ]
     },
     "execution_count": 16,
     "metadata": {},
     "output_type": "execute_result"
    }
   ],
   "source": [
    "new_A.take(12)"
   ]
  },
  {
   "cell_type": "code",
   "execution_count": 12,
   "metadata": {
    "collapsed": true
   },
   "outputs": [],
   "source": [
    "def carre(row):\n",
    "    r, c, aij = row\n",
    "    return c,aij**2\n",
    "\n",
    "def racine(row):\n",
    "    c, aij = row\n",
    "    return c,aij**1/2"
   ]
  },
  {
   "cell_type": "code",
   "execution_count": 18,
   "metadata": {
    "collapsed": false
   },
   "outputs": [],
   "source": [
    "norme=new_A.map(carre).reduceByKey(add).map(racine)"
   ]
  },
  {
   "cell_type": "code",
   "execution_count": 19,
   "metadata": {
    "collapsed": false
   },
   "outputs": [
    {
     "data": {
      "text/plain": [
       "[(0, 17.441127499999993),\n",
       " (8, 17.127869500000003),\n",
       " (2, 13.277349999999998),\n",
       " (4, 18.615647000000003),\n",
       " (6, 18.386184),\n",
       " (1, 17.2193855),\n",
       " (3, 15.258776000000001),\n",
       " (9, 16.7236615),\n",
       " (5, 13.6499655),\n",
       " (7, 14.951690000000003)]"
      ]
     },
     "execution_count": 19,
     "metadata": {},
     "output_type": "execute_result"
    }
   ],
   "source": [
    "norme.take(10)"
   ]
  },
  {
   "cell_type": "code",
   "execution_count": 20,
   "metadata": {
    "collapsed": false
   },
   "outputs": [],
   "source": [
    "norme_c=norme.collect()\n",
    "norme_c.sort()\n",
    "n_c_df=sqlContext.createDataFrame(norme)\n",
    "n_c=n_c_df.toPandas()"
   ]
  },
  {
   "cell_type": "code",
   "execution_count": 21,
   "metadata": {
    "collapsed": false
   },
   "outputs": [
    {
     "data": {
      "text/html": [
       "<div>\n",
       "<table border=\"1\" class=\"dataframe\">\n",
       "  <thead>\n",
       "    <tr style=\"text-align: right;\">\n",
       "      <th></th>\n",
       "      <th>_1</th>\n",
       "      <th>_2</th>\n",
       "    </tr>\n",
       "  </thead>\n",
       "  <tbody>\n",
       "    <tr>\n",
       "      <th>0</th>\n",
       "      <td>0</td>\n",
       "      <td>17.441127</td>\n",
       "    </tr>\n",
       "    <tr>\n",
       "      <th>1</th>\n",
       "      <td>1</td>\n",
       "      <td>17.219386</td>\n",
       "    </tr>\n",
       "    <tr>\n",
       "      <th>2</th>\n",
       "      <td>2</td>\n",
       "      <td>13.277350</td>\n",
       "    </tr>\n",
       "    <tr>\n",
       "      <th>3</th>\n",
       "      <td>3</td>\n",
       "      <td>15.258776</td>\n",
       "    </tr>\n",
       "    <tr>\n",
       "      <th>4</th>\n",
       "      <td>4</td>\n",
       "      <td>18.615647</td>\n",
       "    </tr>\n",
       "    <tr>\n",
       "      <th>5</th>\n",
       "      <td>5</td>\n",
       "      <td>13.649966</td>\n",
       "    </tr>\n",
       "    <tr>\n",
       "      <th>6</th>\n",
       "      <td>6</td>\n",
       "      <td>18.386184</td>\n",
       "    </tr>\n",
       "    <tr>\n",
       "      <th>7</th>\n",
       "      <td>7</td>\n",
       "      <td>14.951690</td>\n",
       "    </tr>\n",
       "    <tr>\n",
       "      <th>8</th>\n",
       "      <td>8</td>\n",
       "      <td>17.127870</td>\n",
       "    </tr>\n",
       "    <tr>\n",
       "      <th>9</th>\n",
       "      <td>9</td>\n",
       "      <td>16.723661</td>\n",
       "    </tr>\n",
       "  </tbody>\n",
       "</table>\n",
       "</div>"
      ],
      "text/plain": [
       "   _1         _2\n",
       "0   0  17.441127\n",
       "1   1  17.219386\n",
       "2   2  13.277350\n",
       "3   3  15.258776\n",
       "4   4  18.615647\n",
       "5   5  13.649966\n",
       "6   6  18.386184\n",
       "7   7  14.951690\n",
       "8   8  17.127870\n",
       "9   9  16.723661"
      ]
     },
     "execution_count": 21,
     "metadata": {},
     "output_type": "execute_result"
    }
   ],
   "source": [
    "n_c.sort_values(by='_1',inplace=True)\n",
    "n_c.reset_index(inplace=True,drop=True)\n",
    "n_c"
   ]
  },
  {
   "cell_type": "code",
   "execution_count": 13,
   "metadata": {
    "collapsed": true
   },
   "outputs": [],
   "source": [
    "# On récupère tout d'abord les a_ij: on a ligne, (colonne,valeur): la clé est sur la ligne\n",
    "def a_ij(row):\n",
    "    return row[0], (row[1], row[2])"
   ]
  },
  {
   "cell_type": "code",
   "execution_count": 22,
   "metadata": {
    "collapsed": false
   },
   "outputs": [],
   "source": [
    "# On récupère ensuite les deux valeurs a_ij et a_ik associé au même i(clé) pour tous les j et k\n",
    "mat_join = new_A.map(a_ij).join(new_A.map(a_ij))\n",
    "#mat_join.take(15)"
   ]
  },
  {
   "cell_type": "code",
   "execution_count": 14,
   "metadata": {
    "collapsed": true
   },
   "outputs": [],
   "source": [
    "# On fait la multiplication a_ij*a_ik, on garde les j et k en clé\n",
    "def produit_matrice2(row):\n",
    "    index, ((j, vij), (k, vik)) = row\n",
    "    \n",
    "    gamma=2*math.log(p)\n",
    "    norme=1/(n_c['_2'][j]*n_c['_2'][k])\n",
    "    proba=np.random.binomial(1,min(1,norme*gamma))\n",
    "    vjk = (vij*vik)*proba\n",
    "    \n",
    "    return j, k, vjk"
   ]
  },
  {
   "cell_type": "code",
   "execution_count": 24,
   "metadata": {
    "collapsed": false
   },
   "outputs": [
    {
     "data": {
      "text/plain": [
       "[(0, 0, 0.016129),\n",
       " (0, 1, -0.0),\n",
       " (0, 2, -0.0),\n",
       " (0, 3, -0.0),\n",
       " (0, 4, 0.0),\n",
       " (0, 5, 0.0),\n",
       " (0, 6, 0.0),\n",
       " (0, 7, 0.0),\n",
       " (0, 8, -0.0),\n",
       " (0, 9, 0.0)]"
      ]
     },
     "execution_count": 24,
     "metadata": {},
     "output_type": "execute_result"
    }
   ],
   "source": [
    "mat_produit = mat_join.map(produit_matrice2)\n",
    "mat_produit.take(10)"
   ]
  },
  {
   "cell_type": "markdown",
   "metadata": {},
   "source": [
    "## Algorithme 4"
   ]
  },
  {
   "cell_type": "code",
   "execution_count": 47,
   "metadata": {
    "collapsed": false
   },
   "outputs": [
    {
     "data": {
      "text/plain": [
       "[((0, 0), (0, 0.016129)),\n",
       " ((0, 1), (1, -0.0)),\n",
       " ((0, 2), (2, -0.0)),\n",
       " ((0, 3), (3, -0.0)),\n",
       " ((0, 4), (4, 0.0)),\n",
       " ((0, 5), (5, 0.0)),\n",
       " ((0, 6), (6, 0.0)),\n",
       " ((0, 7), (7, 0.0)),\n",
       " ((0, 8), (8, -0.0)),\n",
       " ((0, 9), (9, 0.0)),\n",
       " ((1, 0), (0, -0.0)),\n",
       " ((1, 1), (1, 0.0)),\n",
       " ((1, 2), (2, 0.0)),\n",
       " ((1, 3), (3, 0.0)),\n",
       " ((1, 4), (4, -0.0)),\n",
       " ((1, 5), (5, -0.29664999999999997)),\n",
       " ((1, 6), (6, -0.0)),\n",
       " ((1, 7), (7, -0.0)),\n",
       " ((1, 8), (8, 0.0)),\n",
       " ((1, 9), (9, -0.0))]"
      ]
     },
     "execution_count": 47,
     "metadata": {},
     "output_type": "execute_result"
    }
   ],
   "source": [
    "# On crée une nouvelle clé\n",
    "mat_produit_key = mat_produit.map(lambda row: ((row[0], row[1]), (row[1],row[2])))\n",
    "mat_produit_key.take(20)"
   ]
  },
  {
   "cell_type": "code",
   "execution_count": 48,
   "metadata": {
    "collapsed": false
   },
   "outputs": [],
   "source": [
    "# On crée une nouvelle clé et on rajoute la valeur ci\n",
    "#mat_produit_key2 = mat_produit.map(lambda row: ((row[0], row[1]), n_c['_2'][row[1]], row[2]))\n",
    "#mat_produit_key2.take(20)"
   ]
  },
  {
   "cell_type": "code",
   "execution_count": 15,
   "metadata": {
    "collapsed": false
   },
   "outputs": [],
   "source": [
    "# On somme les vi\n",
    "def somme_ligne(rowi,rowj):\n",
    "    gamma=2*math.log(p)\n",
    "    norme=1/(n_c['_2'][rowi[0]]*n_c['_2'][rowj[0]])\n",
    "    bij = (rowi[1]+rowj[1])*(min(1,norme*gamma)==1)/norme+(rowi[1]+rowj[1])*(min(1,norme*gamma)!=1)/gamma\n",
    "    return (rowi[0],bij)"
   ]
  },
  {
   "cell_type": "code",
   "execution_count": 69,
   "metadata": {
    "collapsed": false
   },
   "outputs": [],
   "source": [
    "# On additionne par clé\n",
    "mat_finale = mat_produit_key.reduceByKey(somme_ligne).map(lambda row: ((row[0], row[1]), row[3]))"
   ]
  },
  {
   "cell_type": "code",
   "execution_count": 70,
   "metadata": {
    "collapsed": false
   },
   "outputs": [],
   "source": [
    "# Matrice finale \n",
    "AT_A = mat_finale.collect()"
   ]
  },
  {
   "cell_type": "code",
   "execution_count": 71,
   "metadata": {
    "collapsed": false
   },
   "outputs": [
    {
     "data": {
      "text/plain": [
       "[((0, 0), (0, 4.8560644377384227e-09)),\n",
       " ((0, 1), (1, 0.0)),\n",
       " ((0, 2), (2, -6.1910708295656424e-23)),\n",
       " ((0, 3), (3, 0.0)),\n",
       " ((0, 4), (4, 0.0)),\n",
       " ((0, 5), (5, -3.1988569483025608e-08)),\n",
       " ((0, 6), (6, 1.1940940530316107e-09)),\n",
       " ((0, 7), (7, 2.7034886184465532e-08)),\n",
       " ((0, 8), (8, -8.4034476664477441e-09)),\n",
       " ((0, 9), (9, -3.637698630745194e-08)),\n",
       " ((1, 0), (0, -1.4302704155430338e-05)),\n",
       " ((1, 1), (1, 5.6623099276981758e-23)),\n",
       " ((1, 2), (2, 0.0)),\n",
       " ((1, 3), (3, 8.3735234256666e-07)),\n",
       " ((1, 4), (4, 1.8862001849436907e-20)),\n",
       " ((1, 5), (5, -5.711322215251559e-12)),\n",
       " ((1, 6), (6, 0.0)),\n",
       " ((1, 7), (7, -0.0032555681609653729)),\n",
       " ((1, 8), (8, 3.6586071524467027e-24)),\n",
       " ((1, 9), (9, 6.2042208335499811e-11)),\n",
       " ((2, 0), (0, -1.0390079326839254e-11)),\n",
       " ((2, 1), (1, -3.4877456787050251e-08)),\n",
       " ((2, 2), (2, 1.6426924581529041e-12)),\n",
       " ((2, 3), (3, 1.6566551174714061e-11)),\n",
       " ((2, 4), (4, 0.0)),\n",
       " ((2, 5), (5, -1.2287336747526714e-07)),\n",
       " ((2, 6), (6, 2.1905905666094889e-05)),\n",
       " ((2, 7), (7, -3.1216569293127917e-07)),\n",
       " ((2, 8), (8, 1.482045805835479e-09)),\n",
       " ((2, 9), (9, 4.4369935895487354e-23)),\n",
       " ((3, 0), (0, -4.2217970271849302e-19)),\n",
       " ((3, 1), (1, 9.1689394474178592e-06)),\n",
       " ((3, 2), (2, 0.00058162577452093003)),\n",
       " ((3, 3), (3, 0.0)),\n",
       " ((3, 4), (4, -1.664107511957726e-14)),\n",
       " ((3, 5), (5, 0.0)),\n",
       " ((3, 6), (6, 3.867584084409389e-18)),\n",
       " ((3, 7), (7, 1.0916296086653168e-09)),\n",
       " ((3, 8), (8, 0.0)),\n",
       " ((3, 9), (9, 0.0)),\n",
       " ((4, 0), (0, -3.4601965202489821e-25)),\n",
       " ((4, 1), (1, 1.8252100427979271e-05)),\n",
       " ((4, 2), (2, 1.045874838713477e-07)),\n",
       " ((4, 3), (3, 3.3289278376336321e-28)),\n",
       " ((4, 4), (4, 0.0)),\n",
       " ((4, 5), (5, -8.5949014753121113e-12)),\n",
       " ((4, 6), (6, -1.3685852261323001e-11)),\n",
       " ((4, 7), (7, 1.8006449623895663e-16)),\n",
       " ((4, 8), (8, 0.0)),\n",
       " ((4, 9), (9, 5.3361588976680429e-18)),\n",
       " ((5, 0), (0, -5.8949714485640107e-05)),\n",
       " ((5, 1), (1, 0.0)),\n",
       " ((5, 2), (2, -1.8962941189595597e-17)),\n",
       " ((5, 3), (3, -2.8807644515460883e-10)),\n",
       " ((5, 4), (4, 1.7482467247756759e-10)),\n",
       " ((5, 5), (5, 1.3249962222599817e-15)),\n",
       " ((5, 6), (6, 1.3619516146645349e-11)),\n",
       " ((5, 7), (7, -7.9726085466631377e-11)),\n",
       " ((5, 8), (8, 3.0280524344653147e-10)),\n",
       " ((5, 9), (9, -2.820965485598725e-20)),\n",
       " ((6, 0), (0, 0.0)),\n",
       " ((6, 1), (1, -9.7483210367588753e-10)),\n",
       " ((6, 2), (2, 2.1905905665766921e-05)),\n",
       " ((6, 3), (3, 2.5847647830536107e-18)),\n",
       " ((6, 4), (4, 1.2752478192779114e-13)),\n",
       " ((6, 5), (5, 3.0348113897933855e-26)),\n",
       " ((6, 6), (6, 4.8664717127964925e-19)),\n",
       " ((6, 7), (7, 1.0775699694230656e-05)),\n",
       " ((6, 8), (8, -1.3222484265514243e-08)),\n",
       " ((6, 9), (9, 0.0)),\n",
       " ((7, 0), (0, 3.1799169852586697e-16)),\n",
       " ((7, 1), (1, 1.8193049568185465e-07)),\n",
       " ((7, 2), (2, 3.1892245866275497e-07)),\n",
       " ((7, 3), (3, 1.1458558944714928e-16)),\n",
       " ((7, 4), (4, 1.9794724962220847e-17)),\n",
       " ((7, 5), (5, -1.8021640507871078e-15)),\n",
       " ((7, 6), (6, 9.4769564803077039e-18)),\n",
       " ((7, 7), (7, 0.00026356361410170148)),\n",
       " ((7, 8), (8, 1.9219116307780203e-17)),\n",
       " ((7, 9), (9, -2.6816249157883062e-15)),\n",
       " ((8, 0), (0, -3.2268676367269701e-19)),\n",
       " ((8, 1), (1, 1.2933017413947636e-06)),\n",
       " ((8, 2), (2, 1.4348001052826326e-25)),\n",
       " ((8, 3), (3, 2.0557472046257158e-20)),\n",
       " ((8, 4), (4, 0.00010846286605258419)),\n",
       " ((8, 5), (5, 2.2381644234619318e-07)),\n",
       " ((8, 6), (6, 0.0011911970556468159)),\n",
       " ((8, 7), (7, 0.0)),\n",
       " ((8, 8), (8, 1.4567228780427732e-06)),\n",
       " ((8, 9), (9, 9.2990041201544913e-07)),\n",
       " ((9, 0), (0, 0.0)),\n",
       " ((9, 1), (1, 1.5126132062175993e-15)),\n",
       " ((9, 2), (2, 6.5392017060597327e-10)),\n",
       " ((9, 3), (3, 1.2563682311248552e-21)),\n",
       " ((9, 4), (4, -7.7443192387654537e-08)),\n",
       " ((9, 5), (5, 0.0)),\n",
       " ((9, 6), (6, 0.0)),\n",
       " ((9, 7), (7, -2.7332366875142539e-09)),\n",
       " ((9, 8), (8, -2.3727828365700561e-06)),\n",
       " ((9, 9), (9, 0.0))]"
      ]
     },
     "execution_count": 71,
     "metadata": {},
     "output_type": "execute_result"
    }
   ],
   "source": [
    "AT_A.sort()\n",
    "AT_A #On obtient bien une matrice 10*10"
   ]
  },
  {
   "cell_type": "code",
   "execution_count": 72,
   "metadata": {
    "collapsed": true
   },
   "outputs": [],
   "source": [
    "liste=[]\n",
    "for k in range(p):\n",
    "    liste.append([AT_A[k*p + i][1] for i in range(p)])"
   ]
  },
  {
   "cell_type": "code",
   "execution_count": 73,
   "metadata": {
    "collapsed": false
   },
   "outputs": [
    {
     "data": {
      "text/plain": [
       "array([[[  0.00000000e+00,   4.85606444e-09],\n",
       "        [  1.00000000e+00,   0.00000000e+00],\n",
       "        [  2.00000000e+00,  -6.19107083e-23],\n",
       "        [  3.00000000e+00,   0.00000000e+00],\n",
       "        [  4.00000000e+00,   0.00000000e+00],\n",
       "        [  5.00000000e+00,  -3.19885695e-08],\n",
       "        [  6.00000000e+00,   1.19409405e-09],\n",
       "        [  7.00000000e+00,   2.70348862e-08],\n",
       "        [  8.00000000e+00,  -8.40344767e-09],\n",
       "        [  9.00000000e+00,  -3.63769863e-08]],\n",
       "\n",
       "       [[  0.00000000e+00,  -1.43027042e-05],\n",
       "        [  1.00000000e+00,   5.66230993e-23],\n",
       "        [  2.00000000e+00,   0.00000000e+00],\n",
       "        [  3.00000000e+00,   8.37352343e-07],\n",
       "        [  4.00000000e+00,   1.88620018e-20],\n",
       "        [  5.00000000e+00,  -5.71132222e-12],\n",
       "        [  6.00000000e+00,   0.00000000e+00],\n",
       "        [  7.00000000e+00,  -3.25556816e-03],\n",
       "        [  8.00000000e+00,   3.65860715e-24],\n",
       "        [  9.00000000e+00,   6.20422083e-11]],\n",
       "\n",
       "       [[  0.00000000e+00,  -1.03900793e-11],\n",
       "        [  1.00000000e+00,  -3.48774568e-08],\n",
       "        [  2.00000000e+00,   1.64269246e-12],\n",
       "        [  3.00000000e+00,   1.65665512e-11],\n",
       "        [  4.00000000e+00,   0.00000000e+00],\n",
       "        [  5.00000000e+00,  -1.22873367e-07],\n",
       "        [  6.00000000e+00,   2.19059057e-05],\n",
       "        [  7.00000000e+00,  -3.12165693e-07],\n",
       "        [  8.00000000e+00,   1.48204581e-09],\n",
       "        [  9.00000000e+00,   4.43699359e-23]],\n",
       "\n",
       "       [[  0.00000000e+00,  -4.22179703e-19],\n",
       "        [  1.00000000e+00,   9.16893945e-06],\n",
       "        [  2.00000000e+00,   5.81625775e-04],\n",
       "        [  3.00000000e+00,   0.00000000e+00],\n",
       "        [  4.00000000e+00,  -1.66410751e-14],\n",
       "        [  5.00000000e+00,   0.00000000e+00],\n",
       "        [  6.00000000e+00,   3.86758408e-18],\n",
       "        [  7.00000000e+00,   1.09162961e-09],\n",
       "        [  8.00000000e+00,   0.00000000e+00],\n",
       "        [  9.00000000e+00,   0.00000000e+00]],\n",
       "\n",
       "       [[  0.00000000e+00,  -3.46019652e-25],\n",
       "        [  1.00000000e+00,   1.82521004e-05],\n",
       "        [  2.00000000e+00,   1.04587484e-07],\n",
       "        [  3.00000000e+00,   3.32892784e-28],\n",
       "        [  4.00000000e+00,   0.00000000e+00],\n",
       "        [  5.00000000e+00,  -8.59490148e-12],\n",
       "        [  6.00000000e+00,  -1.36858523e-11],\n",
       "        [  7.00000000e+00,   1.80064496e-16],\n",
       "        [  8.00000000e+00,   0.00000000e+00],\n",
       "        [  9.00000000e+00,   5.33615890e-18]],\n",
       "\n",
       "       [[  0.00000000e+00,  -5.89497145e-05],\n",
       "        [  1.00000000e+00,   0.00000000e+00],\n",
       "        [  2.00000000e+00,  -1.89629412e-17],\n",
       "        [  3.00000000e+00,  -2.88076445e-10],\n",
       "        [  4.00000000e+00,   1.74824672e-10],\n",
       "        [  5.00000000e+00,   1.32499622e-15],\n",
       "        [  6.00000000e+00,   1.36195161e-11],\n",
       "        [  7.00000000e+00,  -7.97260855e-11],\n",
       "        [  8.00000000e+00,   3.02805243e-10],\n",
       "        [  9.00000000e+00,  -2.82096549e-20]],\n",
       "\n",
       "       [[  0.00000000e+00,   0.00000000e+00],\n",
       "        [  1.00000000e+00,  -9.74832104e-10],\n",
       "        [  2.00000000e+00,   2.19059057e-05],\n",
       "        [  3.00000000e+00,   2.58476478e-18],\n",
       "        [  4.00000000e+00,   1.27524782e-13],\n",
       "        [  5.00000000e+00,   3.03481139e-26],\n",
       "        [  6.00000000e+00,   4.86647171e-19],\n",
       "        [  7.00000000e+00,   1.07756997e-05],\n",
       "        [  8.00000000e+00,  -1.32224843e-08],\n",
       "        [  9.00000000e+00,   0.00000000e+00]],\n",
       "\n",
       "       [[  0.00000000e+00,   3.17991699e-16],\n",
       "        [  1.00000000e+00,   1.81930496e-07],\n",
       "        [  2.00000000e+00,   3.18922459e-07],\n",
       "        [  3.00000000e+00,   1.14585589e-16],\n",
       "        [  4.00000000e+00,   1.97947250e-17],\n",
       "        [  5.00000000e+00,  -1.80216405e-15],\n",
       "        [  6.00000000e+00,   9.47695648e-18],\n",
       "        [  7.00000000e+00,   2.63563614e-04],\n",
       "        [  8.00000000e+00,   1.92191163e-17],\n",
       "        [  9.00000000e+00,  -2.68162492e-15]],\n",
       "\n",
       "       [[  0.00000000e+00,  -3.22686764e-19],\n",
       "        [  1.00000000e+00,   1.29330174e-06],\n",
       "        [  2.00000000e+00,   1.43480011e-25],\n",
       "        [  3.00000000e+00,   2.05574720e-20],\n",
       "        [  4.00000000e+00,   1.08462866e-04],\n",
       "        [  5.00000000e+00,   2.23816442e-07],\n",
       "        [  6.00000000e+00,   1.19119706e-03],\n",
       "        [  7.00000000e+00,   0.00000000e+00],\n",
       "        [  8.00000000e+00,   1.45672288e-06],\n",
       "        [  9.00000000e+00,   9.29900412e-07]],\n",
       "\n",
       "       [[  0.00000000e+00,   0.00000000e+00],\n",
       "        [  1.00000000e+00,   1.51261321e-15],\n",
       "        [  2.00000000e+00,   6.53920171e-10],\n",
       "        [  3.00000000e+00,   1.25636823e-21],\n",
       "        [  4.00000000e+00,  -7.74431924e-08],\n",
       "        [  5.00000000e+00,   0.00000000e+00],\n",
       "        [  6.00000000e+00,   0.00000000e+00],\n",
       "        [  7.00000000e+00,  -2.73323669e-09],\n",
       "        [  8.00000000e+00,  -2.37278284e-06],\n",
       "        [  9.00000000e+00,   0.00000000e+00]]])"
      ]
     },
     "execution_count": 73,
     "metadata": {},
     "output_type": "execute_result"
    }
   ],
   "source": [
    "AT_A_finale = np.array(liste)\n",
    "AT_A_finale"
   ]
  },
  {
   "cell_type": "code",
   "execution_count": 28,
   "metadata": {
    "collapsed": false
   },
   "outputs": [
    {
     "name": "stdout",
     "output_type": "stream",
     "text": [
      "0.25105299999999975\n"
     ]
    }
   ],
   "source": [
    "time1=time.clock()\n",
    "\n",
    "norme=new_A.map(carre).reduceByKey(add).map(racine)\n",
    "norme_c=norme.collect()\n",
    "norme_c.sort()\n",
    "n_c_df=sqlContext.createDataFrame(norme)\n",
    "n_c=n_c_df.toPandas()\n",
    "n_c.sort_values(by='_1',inplace=True)\n",
    "n_c.reset_index(inplace=True,drop=True)\n",
    "\n",
    "mat_finale = new_A.map(a_ij).join(new_A.map(a_ij)).map(produit_matrice2).map(lambda row: ((row[0], row[1]), (row[1],row[2]))).reduceByKey(somme_ligne).map(lambda row: ((row[0][0], row[0][1]), row[1][1]))\n",
    "\n",
    "\n",
    "AT_A = mat_finale.collect()\n",
    "AT_A.sort()\n",
    "liste=[]\n",
    "for k in range(p):\n",
    "    liste.append([AT_A[k*p + i][1] for i in range(p)])\n",
    "AT_A_finale = np.array(liste)\n",
    "\n",
    "time2=time.clock()\n",
    "print(time2-time1)"
   ]
  },
  {
   "cell_type": "code",
   "execution_count": null,
   "metadata": {
    "collapsed": false
   },
   "outputs": [],
   "source": []
  },
  {
   "cell_type": "code",
   "execution_count": null,
   "metadata": {
    "collapsed": true
   },
   "outputs": [],
   "source": []
  }
 ],
 "metadata": {
  "anaconda-cloud": {},
  "kernelspec": {
   "display_name": "Python [default]",
   "language": "python",
   "name": "python3"
  },
  "language_info": {
   "codemirror_mode": {
    "name": "ipython",
    "version": 3
   },
   "file_extension": ".py",
   "mimetype": "text/x-python",
   "name": "python",
   "nbconvert_exporter": "python",
   "pygments_lexer": "ipython3",
   "version": "3.5.2"
  }
 },
 "nbformat": 4,
 "nbformat_minor": 1
}
